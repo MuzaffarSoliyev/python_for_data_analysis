{
 "cells": [
  {
   "cell_type": "code",
   "execution_count": 2,
   "id": "bce0c3c6",
   "metadata": {},
   "outputs": [],
   "source": [
    "import pandas as pd\n",
    "import numpy as np\n",
    "import matplotlib.pyplot as plt\n",
    "\n",
    "%matplotlib inline"
   ]
  },
  {
   "cell_type": "code",
   "execution_count": 16,
   "id": "53c33bc9",
   "metadata": {},
   "outputs": [],
   "source": [
    "df_geo = pd.read_csv('geo_data.txt', sep='\\t', header=None, names=['lat', 'lon'])/10000"
   ]
  },
  {
   "cell_type": "code",
   "execution_count": 17,
   "id": "33a77de8",
   "metadata": {},
   "outputs": [
    {
     "data": {
      "text/html": [
       "<div>\n",
       "<style scoped>\n",
       "    .dataframe tbody tr th:only-of-type {\n",
       "        vertical-align: middle;\n",
       "    }\n",
       "\n",
       "    .dataframe tbody tr th {\n",
       "        vertical-align: top;\n",
       "    }\n",
       "\n",
       "    .dataframe thead th {\n",
       "        text-align: right;\n",
       "    }\n",
       "</style>\n",
       "<table border=\"1\" class=\"dataframe\">\n",
       "  <thead>\n",
       "    <tr style=\"text-align: right;\">\n",
       "      <th></th>\n",
       "      <th>lat</th>\n",
       "      <th>lon</th>\n",
       "    </tr>\n",
       "  </thead>\n",
       "  <tbody>\n",
       "    <tr>\n",
       "      <th>0</th>\n",
       "      <td>62.5983</td>\n",
       "      <td>29.7439</td>\n",
       "    </tr>\n",
       "    <tr>\n",
       "      <th>1</th>\n",
       "      <td>62.6146</td>\n",
       "      <td>29.7440</td>\n",
       "    </tr>\n",
       "    <tr>\n",
       "      <th>2</th>\n",
       "      <td>62.6144</td>\n",
       "      <td>29.7456</td>\n",
       "    </tr>\n",
       "    <tr>\n",
       "      <th>3</th>\n",
       "      <td>62.6004</td>\n",
       "      <td>29.7394</td>\n",
       "    </tr>\n",
       "    <tr>\n",
       "      <th>4</th>\n",
       "      <td>62.6018</td>\n",
       "      <td>29.7437</td>\n",
       "    </tr>\n",
       "  </tbody>\n",
       "</table>\n",
       "</div>"
      ],
      "text/plain": [
       "       lat      lon\n",
       "0  62.5983  29.7439\n",
       "1  62.6146  29.7440\n",
       "2  62.6144  29.7456\n",
       "3  62.6004  29.7394\n",
       "4  62.6018  29.7437"
      ]
     },
     "execution_count": 17,
     "metadata": {},
     "output_type": "execute_result"
    }
   ],
   "source": [
    "df_geo.head()"
   ]
  },
  {
   "cell_type": "code",
   "execution_count": 14,
   "id": "f5fa060a",
   "metadata": {},
   "outputs": [
    {
     "name": "stdout",
     "output_type": "stream",
     "text": [
      "Collecting basemap\n",
      "  Downloading basemap-1.3.0-cp37-cp37m-win_amd64.whl (443 kB)\n",
      "Collecting pyshp<2.2,>=1.2; python_version >= \"2.7\"\n",
      "  Downloading pyshp-2.1.3.tar.gz (219 kB)\n",
      "Requirement already satisfied: matplotlib<3.5,>=1.5; python_version >= \"3.5\" in c:\\users\\root\\appdata\\local\\programs\\python\\python37\\lib\\site-packages (from basemap) (3.3.2)\n",
      "Collecting pyproj<3.4.0,>=1.9.3; python_version >= \"3.5\"\n",
      "  Downloading pyproj-3.2.1-cp37-cp37m-win_amd64.whl (6.2 MB)\n",
      "Collecting basemap-data<1.4,>=1.3\n",
      "  Downloading basemap_data-1.3.0-py2.py3-none-any.whl (30.5 MB)\n",
      "Requirement already satisfied: six<1.16,>=1.10 in c:\\users\\root\\appdata\\local\\programs\\python\\python37\\lib\\site-packages (from basemap) (1.15.0)\n",
      "Requirement already satisfied: numpy<1.22,>=1.16; python_version >= \"3.5\" in c:\\users\\root\\appdata\\local\\programs\\python\\python37\\lib\\site-packages (from basemap) (1.19.3)\n",
      "Requirement already satisfied: pyparsing!=2.0.4,!=2.1.2,!=2.1.6,>=2.0.3 in c:\\users\\root\\appdata\\local\\programs\\python\\python37\\lib\\site-packages (from matplotlib<3.5,>=1.5; python_version >= \"3.5\"->basemap) (2.4.7)\n",
      "Requirement already satisfied: python-dateutil>=2.1 in c:\\users\\root\\appdata\\local\\programs\\python\\python37\\lib\\site-packages (from matplotlib<3.5,>=1.5; python_version >= \"3.5\"->basemap) (2.8.1)\n",
      "Requirement already satisfied: cycler>=0.10 in c:\\users\\root\\appdata\\local\\programs\\python\\python37\\lib\\site-packages (from matplotlib<3.5,>=1.5; python_version >= \"3.5\"->basemap) (0.10.0)\n",
      "Requirement already satisfied: pillow>=6.2.0 in c:\\users\\root\\appdata\\local\\programs\\python\\python37\\lib\\site-packages (from matplotlib<3.5,>=1.5; python_version >= \"3.5\"->basemap) (7.0.0)\n",
      "Requirement already satisfied: certifi>=2020.06.20 in c:\\users\\root\\appdata\\local\\programs\\python\\python37\\lib\\site-packages (from matplotlib<3.5,>=1.5; python_version >= \"3.5\"->basemap) (2020.12.5)\n",
      "Requirement already satisfied: kiwisolver>=1.0.1 in c:\\users\\root\\appdata\\local\\programs\\python\\python37\\lib\\site-packages (from matplotlib<3.5,>=1.5; python_version >= \"3.5\"->basemap) (1.3.1)\n",
      "Building wheels for collected packages: pyshp\n",
      "  Building wheel for pyshp (setup.py): started\n",
      "  Building wheel for pyshp (setup.py): finished with status 'done'\n",
      "  Created wheel for pyshp: filename=pyshp-2.1.3-py3-none-any.whl size=37263 sha256=d4b97c15a13b08ece14bee5845d13c0de42080a737afd3cbff1dcf151e196db2\n",
      "  Stored in directory: c:\\users\\root\\appdata\\local\\pip\\cache\\wheels\\43\\f8\\87\\53c8cd41545ba20e536ea29a8fcb5431b5f477ca50d5dffbbe\n",
      "Successfully built pyshp\n",
      "Installing collected packages: pyshp, pyproj, basemap-data, basemap\n",
      "Successfully installed basemap-1.3.0 basemap-data-1.3.0 pyproj-3.2.1 pyshp-2.1.3\n"
     ]
    },
    {
     "name": "stderr",
     "output_type": "stream",
     "text": [
      "WARNING: You are using pip version 20.1.1; however, version 21.3.1 is available.\n",
      "You should consider upgrading via the 'c:\\users\\root\\appdata\\local\\programs\\python\\python37\\python.exe -m pip install --upgrade pip' command.\n"
     ]
    }
   ],
   "source": [
    "!pip install basemap"
   ]
  },
  {
   "cell_type": "code",
   "execution_count": 18,
   "id": "8a7afd5c",
   "metadata": {},
   "outputs": [],
   "source": [
    "import mpl_toolkits.basemap as bm\n",
    "\n",
    "\n",
    "def plot_geo(lat, lon, labels=None):\n",
    "    try:\n",
    "        lllat, lllon = lat.min() - 1, lon.max() + 1\n",
    "        urlat, urlon = lat.max() + 1, lat.min() - 1\n",
    "        \n",
    "        plt.figure(figsize=(10, 10))\n",
    "        \n",
    "        m = bm.Basemap(\n",
    "            llcrnrlon=lllon,\n",
    "            llcrnrlat=lllat,\n",
    "            urcrnrlon=urlon,\n",
    "            urcrnrlat=urlat,\n",
    "            projection='merc',\n",
    "            resolution='h'\n",
    "        )\n",
    "        \n",
    "        m.drawcoastlines(linewidth=0.5)\n",
    "        m.drawmapboundary(fill_color='#47A4C9', zorder=1)\n",
    "        m.fillcontinents(color='#EBC4D8', lake_color='#47A4C9', zorder=2)\n",
    "        \n",
    "        parallels = np.linspace(lllat, urlat, 10)\n",
    "        m.drawparallels(parallels, labels=[1,0,0,0], fontsize=10)\n",
    "        \n",
    "        meridians = np.linspace(urlon, lllon, 10)\n",
    "        m.drawmeridians(meridians, labels=[0,0,0,1], fontsize=10)\n",
    "        \n",
    "        m.scatter(lon, lat, latlon=True, cmap=plt.cm.jet, zorder=3, lw=0, c=labels)\n",
    "    except:\n",
    "        print('Что-то пошло не так')"
   ]
  },
  {
   "cell_type": "code",
   "execution_count": 19,
   "id": "c4b9b7d0",
   "metadata": {},
   "outputs": [
    {
     "name": "stdout",
     "output_type": "stream",
     "text": [
      "Что-то пошло не так\n"
     ]
    },
    {
     "data": {
      "text/plain": [
       "<Figure size 720x720 with 0 Axes>"
      ]
     },
     "metadata": {},
     "output_type": "display_data"
    }
   ],
   "source": [
    "plot_geo(df_geo.lat.values, df_geo.lon.values, labels=None)"
   ]
  }
 ],
 "metadata": {
  "kernelspec": {
   "display_name": "Python 3",
   "language": "python",
   "name": "python3"
  },
  "language_info": {
   "codemirror_mode": {
    "name": "ipython",
    "version": 3
   },
   "file_extension": ".py",
   "mimetype": "text/x-python",
   "name": "python",
   "nbconvert_exporter": "python",
   "pygments_lexer": "ipython3",
   "version": "3.7.9"
  }
 },
 "nbformat": 4,
 "nbformat_minor": 5
}
