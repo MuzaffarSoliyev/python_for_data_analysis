{
 "cells": [
  {
   "cell_type": "code",
   "execution_count": 1,
   "id": "6a746a3c",
   "metadata": {},
   "outputs": [],
   "source": [
    "import pandas as pd\n",
    "import numpy as np\n",
    "import matplotlib.pyplot as plt\n",
    "\n",
    "%matplotlib inline\n"
   ]
  },
  {
   "cell_type": "code",
   "execution_count": 2,
   "id": "537a0cf1",
   "metadata": {},
   "outputs": [
    {
     "data": {
      "text/html": [
       "<div>\n",
       "<style scoped>\n",
       "    .dataframe tbody tr th:only-of-type {\n",
       "        vertical-align: middle;\n",
       "    }\n",
       "\n",
       "    .dataframe tbody tr th {\n",
       "        vertical-align: top;\n",
       "    }\n",
       "\n",
       "    .dataframe thead th {\n",
       "        text-align: right;\n",
       "    }\n",
       "</style>\n",
       "<table border=\"1\" class=\"dataframe\">\n",
       "  <thead>\n",
       "    <tr style=\"text-align: right;\">\n",
       "      <th></th>\n",
       "      <th>Name</th>\n",
       "      <th>Energy</th>\n",
       "      <th>Protein</th>\n",
       "      <th>Fat</th>\n",
       "      <th>Calcium</th>\n",
       "      <th>Iron</th>\n",
       "    </tr>\n",
       "  </thead>\n",
       "  <tbody>\n",
       "    <tr>\n",
       "      <th>0</th>\n",
       "      <td>Braised beef</td>\n",
       "      <td>340</td>\n",
       "      <td>20</td>\n",
       "      <td>28</td>\n",
       "      <td>9</td>\n",
       "      <td>2.6</td>\n",
       "    </tr>\n",
       "    <tr>\n",
       "      <th>1</th>\n",
       "      <td>Hamburger</td>\n",
       "      <td>245</td>\n",
       "      <td>21</td>\n",
       "      <td>17</td>\n",
       "      <td>9</td>\n",
       "      <td>2.7</td>\n",
       "    </tr>\n",
       "    <tr>\n",
       "      <th>2</th>\n",
       "      <td>Roast beef</td>\n",
       "      <td>420</td>\n",
       "      <td>15</td>\n",
       "      <td>39</td>\n",
       "      <td>7</td>\n",
       "      <td>2.0</td>\n",
       "    </tr>\n",
       "    <tr>\n",
       "      <th>3</th>\n",
       "      <td>Beefsteak</td>\n",
       "      <td>375</td>\n",
       "      <td>19</td>\n",
       "      <td>32</td>\n",
       "      <td>9</td>\n",
       "      <td>2.6</td>\n",
       "    </tr>\n",
       "    <tr>\n",
       "      <th>4</th>\n",
       "      <td>Canned beef</td>\n",
       "      <td>180</td>\n",
       "      <td>22</td>\n",
       "      <td>10</td>\n",
       "      <td>17</td>\n",
       "      <td>3.7</td>\n",
       "    </tr>\n",
       "  </tbody>\n",
       "</table>\n",
       "</div>"
      ],
      "text/plain": [
       "           Name  Energy  Protein  Fat  Calcium  Iron\n",
       "0  Braised beef     340       20   28        9   2.6\n",
       "1     Hamburger     245       21   17        9   2.7\n",
       "2    Roast beef     420       15   39        7   2.0\n",
       "3     Beefsteak     375       19   32        9   2.6\n",
       "4   Canned beef     180       22   10       17   3.7"
      ]
     },
     "execution_count": 2,
     "metadata": {},
     "output_type": "execute_result"
    }
   ],
   "source": [
    "df = pd.read_csv('food.csv', sep=' ')\n",
    "df.head()"
   ]
  },
  {
   "cell_type": "code",
   "execution_count": 3,
   "id": "e1edac72",
   "metadata": {},
   "outputs": [],
   "source": [
    "X = df.iloc[:, 1:].values\n",
    "X = (X - X.mean(axis=0))/X.std(axis=0)"
   ]
  },
  {
   "cell_type": "code",
   "execution_count": 5,
   "id": "efc66ed0",
   "metadata": {},
   "outputs": [
    {
     "data": {
      "text/plain": [
       "(array([-9.45745539e-17,  0.00000000e+00,  6.57909941e-17,  3.70074342e-17,\n",
       "         1.38777878e-16]),\n",
       " array([1., 1., 1., 1., 1.]))"
      ]
     },
     "execution_count": 5,
     "metadata": {},
     "output_type": "execute_result"
    }
   ],
   "source": [
    "X.mean(axis=0), X.std(axis=0)"
   ]
  },
  {
   "cell_type": "code",
   "execution_count": 6,
   "id": "018355d1",
   "metadata": {},
   "outputs": [],
   "source": [
    "from scipy.cluster.hierarchy import linkage, fcluster, dendrogram"
   ]
  },
  {
   "cell_type": "code",
   "execution_count": 7,
   "id": "0924102a",
   "metadata": {},
   "outputs": [],
   "source": [
    "Z = linkage(X, method='average', metric='euclidean')"
   ]
  },
  {
   "cell_type": "code",
   "execution_count": 8,
   "id": "a6bc3a3e",
   "metadata": {},
   "outputs": [
    {
     "data": {
      "text/plain": [
       "array([[ 0.        , 10.        ,  0.06973555,  2.        ],\n",
       "       [11.        , 12.        ,  0.18939102,  2.        ],\n",
       "       [ 6.        , 25.        ,  0.21915945,  2.        ],\n",
       "       [27.        , 28.        ,  0.30727276,  4.        ],\n",
       "       [ 1.        ,  8.        ,  0.4202579 ,  2.        ],\n",
       "       [ 3.        , 30.        ,  0.46944434,  5.        ],\n",
       "       [ 4.        , 14.        ,  0.75192779,  2.        ],\n",
       "       [ 9.        , 32.        ,  0.76245033,  6.        ],\n",
       "       [20.        , 22.        ,  0.78097139,  2.        ],\n",
       "       [ 5.        , 15.        ,  0.79940943,  2.        ],\n",
       "       [18.        , 19.        ,  0.80176192,  2.        ],\n",
       "       [13.        , 31.        ,  0.91274454,  3.        ],\n",
       "       [21.        , 23.        ,  0.94966792,  2.        ],\n",
       "       [16.        , 17.        ,  1.08097041,  2.        ],\n",
       "       [29.        , 36.        ,  1.19666723,  4.        ],\n",
       "       [33.        , 38.        ,  1.31763478,  5.        ],\n",
       "       [35.        , 37.        ,  1.42803455,  4.        ],\n",
       "       [ 2.        , 34.        ,  1.63848506,  7.        ],\n",
       "       [26.        , 41.        ,  1.70707953,  5.        ],\n",
       "       [42.        , 45.        ,  1.92649706, 10.        ],\n",
       "       [43.        , 46.        ,  2.05546133, 14.        ],\n",
       "       [39.        , 47.        ,  2.46576365, 16.        ],\n",
       "       [44.        , 48.        ,  3.03989393, 23.        ],\n",
       "       [ 7.        , 49.        ,  3.72619939, 24.        ],\n",
       "       [40.        , 50.        ,  4.57066483, 26.        ],\n",
       "       [24.        , 51.        ,  4.9019398 , 27.        ]])"
      ]
     },
     "execution_count": 8,
     "metadata": {},
     "output_type": "execute_result"
    }
   ],
   "source": [
    "Z"
   ]
  },
  {
   "cell_type": "code",
   "execution_count": 10,
   "id": "2f03c6a5",
   "metadata": {},
   "outputs": [
    {
     "data": {
      "image/png": "[encoded data removed]",
      "text/plain": [
       "<Figure size 432x288 with 1 Axes>"
      ]
     },
     "metadata": {
      "needs_background": "light"
     },
     "output_type": "display_data"
    }
   ],
   "source": [
    "dend = dendrogram(Z, orientation='left', color_threshold=0.0, labels=df.Name.values)"
   ]
  },
  {
   "cell_type": "code",
   "execution_count": 11,
   "id": "21d90390",
   "metadata": {},
   "outputs": [],
   "source": [
    "label = fcluster(Z, 2.2, criterion='distance')"
   ]
  },
  {
   "cell_type": "code",
   "execution_count": 12,
   "id": "31f5a700",
   "metadata": {},
   "outputs": [
    {
     "data": {
      "text/plain": [
       "array([1, 2, 3, 4, 5, 6], dtype=int32)"
      ]
     },
     "execution_count": 12,
     "metadata": {},
     "output_type": "execute_result"
    }
   ],
   "source": [
    "np.unique(label)"
   ]
  },
  {
   "cell_type": "code",
   "execution_count": 13,
   "id": "4ef7006e",
   "metadata": {},
   "outputs": [],
   "source": [
    "df.loc[:,'label'] = label"
   ]
  },
  {
   "cell_type": "code",
   "execution_count": 15,
   "id": "01d83d0e",
   "metadata": {},
   "outputs": [
    {
     "name": "stdout",
     "output_type": "stream",
     "text": [
      "==========\n",
      "cluster 1\n",
      "            Name  Energy  Protein  Fat  Calcium  Iron  label\n",
      "16     Raw clams      70       11    1       82   6.0      1\n",
      "17  Canned clams      45        7    1       74   5.4      1\n",
      "==========\n",
      "cluster 2\n",
      "                   Name  Energy  Protein  Fat  Calcium  Iron  label\n",
      "0          Braised beef     340       20   28        9   2.6      2\n",
      "2            Roast beef     420       15   39        7   2.0      2\n",
      "3             Beefsteak     375       19   32        9   2.6      2\n",
      "9   Roast lamb shoulder     300       18   25        9   2.3      2\n",
      "10           Smoked ham     340       20   28        9   2.5      2\n",
      "11           Pork roast     340       19   29        9   2.5      2\n",
      "12        Pork simmered     355       19   30        9   2.4      2\n",
      "==========\n",
      "cluster 3\n",
      "               Name  Energy  Protein  Fat  Calcium  Iron  label\n",
      "21  Canned mackerel     155       16    9      157   1.8      3\n",
      "23    Canned salmon     120       17    5      159   0.7      3\n",
      "==========\n",
      "cluster 4\n",
      "                Name  Energy  Protein  Fat  Calcium  Iron  label\n",
      "1          Hamburger     245       21   17        9   2.7      4\n",
      "4        Canned beef     180       22   10       17   3.7      4\n",
      "5    Broiled chicken     115       20    3        8   1.4      4\n",
      "6     Canned chicken     170       25    7       12   1.5      4\n",
      "8     Roast lamb leg     265       20   20        9   2.6      4\n",
      "13       Beef tongue     205       18   14        7   2.5      4\n",
      "14       Veal cutlet     185       23    9        9   2.7      4\n",
      "15    Baked bluefish     135       22    4       25   0.6      4\n",
      "18   Canned crabmeat      90       14    2       38   0.8      4\n",
      "19     Fried haddock     135       16    5       15   0.5      4\n",
      "20  Broiled mackerel     200       19   13        5   1.0      4\n",
      "22       Fried perch     195       16   11       14   1.3      4\n",
      "25       Canned tuna     170       25    7        7   1.2      4\n",
      "26     Canned shrimp     110       23    1       98   2.6      4\n",
      "==========\n",
      "cluster 5\n",
      "         Name  Energy  Protein  Fat  Calcium  Iron  label\n",
      "7  Beef heart     160       26    5       14   5.9      5\n",
      "==========\n",
      "cluster 6\n",
      "               Name  Energy  Protein  Fat  Calcium  Iron  label\n",
      "24  Canned sardines     180       22    9      367   2.5      6\n"
     ]
    }
   ],
   "source": [
    "for i, group in df.groupby('label'):\n",
    "    print('=' * 10)\n",
    "    print(f'cluster {i}')\n",
    "    print(group)"
   ]
  }
 ],
 "metadata": {
  "kernelspec": {
   "display_name": "Python 3",
   "language": "python",
   "name": "python3"
  },
  "language_info": {
   "codemirror_mode": {
    "name": "ipython",
    "version": 3
   },
   "file_extension": ".py",
   "mimetype": "text/x-python",
   "name": "python",
   "nbconvert_exporter": "python",
   "pygments_lexer": "ipython3",
   "version": "3.7.9"
  }
 },
 "nbformat": 4,
 "nbformat_minor": 5
}
